{
 "cells": [
  {
   "cell_type": "code",
   "execution_count": 1,
   "metadata": {},
   "outputs": [],
   "source": [
    "# Imports\n",
    "import cv2 as cv\n",
    "import numpy as np\n",
    "import matplotlib\n",
    "from matplotlib import pyplot as plt\n",
    "import glob\n",
    "import pickle\n",
    "import ml_metrics"
   ]
  },
  {
   "cell_type": "code",
   "execution_count": 2,
   "metadata": {},
   "outputs": [],
   "source": [
    "# Parameters\n",
    "NBINS = 64\n",
    "COLORSPACE = cv.COLOR_BGR2Lab"
   ]
  },
  {
   "cell_type": "code",
   "execution_count": 3,
   "metadata": {},
   "outputs": [
    {
     "name": "stdout",
     "output_type": "stream",
     "text": [
      "Database has 279 images\n"
     ]
    }
   ],
   "source": [
    "# Read the image database and store the features\n",
    "database = []\n",
    "\n",
    "for f in sorted(glob.glob('./database/*.jpg')):\n",
    "    hists=[]\n",
    "    img = cv.imread(f, cv.IMREAD_COLOR)\n",
    "    # Choose the colorspace\n",
    "    img=cv.cvtColor(img, COLORSPACE)\n",
    "    \n",
    "    # Compute the normalized histograms\n",
    "    npx = img.shape[0]*img.shape[1]\n",
    "    hist_1=cv.calcHist([img],[0],None,[NBINS],[0,256])/npx \n",
    "    hist_2=cv.calcHist([img],[1],None,[NBINS],[0,256])/npx\n",
    "    hist_3=cv.calcHist([img],[2],None,[NBINS],[0,256])/npx\n",
    "    hists=np.concatenate((hist_1,hist_2,hist_3))\n",
    "    database.append(hists)\n",
    "    \n",
    "print('Database has ' + str(len(database)) + ' images')"
   ]
  },
  {
   "cell_type": "code",
   "execution_count": 4,
   "metadata": {},
   "outputs": [
    {
     "name": "stdout",
     "output_type": "stream",
     "text": [
      "Query set has 30 images\n"
     ]
    }
   ],
   "source": [
    "# Read the query images\n",
    "queries = []\n",
    "\n",
    "for f in sorted(glob.glob('./qsd1_w1/*.jpg')):\n",
    "    img = cv.imread(f, cv.IMREAD_COLOR)\n",
    "    img = cv.cvtColor(img, COLORSPACE)\n",
    "    \n",
    "    # Compute the normalized histograms\n",
    "    npx = img.shape[0]*img.shape[1]\n",
    "    hist_1=cv.calcHist([img],[0],None,[NBINS],[0,256])/npx \n",
    "    hist_2=cv.calcHist([img],[1],None,[NBINS],[0,256])/npx\n",
    "    hist_3=cv.calcHist([img],[2],None,[NBINS],[0,256])/npx\n",
    "    hists=np.concatenate((hist_1,hist_2,hist_3))\n",
    "    queries.append(hists)\n",
    "    \n",
    "print('Query set has ' + str(len(queries)) + ' images')\n",
    "\n",
    "# Load the ground truth for the query set\n",
    "gt = pickle.load(open('./qsd1_w1/gt_corresps.pkl','rb'))"
   ]
  },
  {
   "cell_type": "code",
   "execution_count": 5,
   "metadata": {
    "scrolled": true
   },
   "outputs": [],
   "source": [
    "# Find the mask for the background\n",
    "# TO DO"
   ]
  },
  {
   "cell_type": "code",
   "execution_count": 6,
   "metadata": {
    "scrolled": true
   },
   "outputs": [],
   "source": [
    "final_ranking = np.zeros( (len(queries),10), dtype=float )\n",
    "for i in range(0,len(queries)):\n",
    "    ranking = np.ones( (10,2), dtype=float )*3\n",
    "    for j in range(0,len(database)):\n",
    "        # Compute the distance metric\n",
    "        dist = sum(pow(abs(database[j] - queries[i]),2))\n",
    "        # Check the ranking and update it\n",
    "        if(dist < max(ranking[:,1])):\n",
    "            # Add the distance and the id to the db\n",
    "            idx = np.argmax(ranking[:,1])\n",
    "            ranking[idx,0] = j\n",
    "            ranking[idx,1] = dist\n",
    "    \n",
    "    # In ranking we have the k closest images for query q, let's store it \n",
    "    # First we should sort them\n",
    "    for j in range(0,10):\n",
    "        idx = np.argmin(ranking[:,1])\n",
    "        final_ranking[i,j]= ranking[idx,0]\n",
    "        ranking[idx,:] = [3,3]\n",
    "    "
   ]
  },
  {
   "cell_type": "code",
   "execution_count": 23,
   "metadata": {},
   "outputs": [
    {
     "data": {
      "text/plain": [
       "0.6037301587301587"
      ]
     },
     "execution_count": 23,
     "metadata": {},
     "output_type": "execute_result"
    }
   ],
   "source": [
    "gt_list = []\n",
    "for i in range(0,len(gt)):\n",
    "    gt_list.append([gt[i][0][1]])\n",
    "    \n",
    "ml_metrics.mapk(gt_list,final_ranking.tolist(),10)"
   ]
  },
  {
   "cell_type": "code",
   "execution_count": null,
   "metadata": {},
   "outputs": [],
   "source": []
  }
 ],
 "metadata": {
  "kernelspec": {
   "display_name": "Python 3",
   "language": "python",
   "name": "python3"
  },
  "language_info": {
   "codemirror_mode": {
    "name": "ipython",
    "version": 3
   },
   "file_extension": ".py",
   "mimetype": "text/x-python",
   "name": "python",
   "nbconvert_exporter": "python",
   "pygments_lexer": "ipython3",
   "version": "3.5.2"
  }
 },
 "nbformat": 4,
 "nbformat_minor": 2
}
