{
 "cells": [
  {
   "cell_type": "code",
   "execution_count": 1,
   "metadata": {},
   "outputs": [],
   "source": [
    "import cv2 as cv\n",
    "import numpy as np\n",
    "from matplotlib import pyplot as plt\n",
    "import glob"
   ]
  },
  {
   "cell_type": "code",
   "execution_count": 11,
   "metadata": {},
   "outputs": [
    {
     "name": "stdout",
     "output_type": "stream",
     "text": [
      "Database has 279 images\n"
     ]
    }
   ],
   "source": [
    "# Read the image database and store the features\n",
    "files = glob.glob('./database/*.jpg')\n",
    "database = []\n",
    "\n",
    "for f in files:\n",
    "    img = cv.imread(f, cv.IMREAD_COLOR)\n",
    "    grayImg = cv.cvtColor(img, cv.COLOR_RGB2GRAY)\n",
    "    hist = cv.calcHist([grayImg],[0],None,[64],[0,256])\n",
    "    hist_norm = hist/(grayImg.shape[0]*grayImg.shape[1])\n",
    "    database.append(hist_norm)\n",
    "    \n",
    "print('Database has ' + str(len(database)) + ' images')"
   ]
  },
  {
   "cell_type": "code",
   "execution_count": 12,
   "metadata": {},
   "outputs": [
    {
     "name": "stdout",
     "output_type": "stream",
     "text": [
      "Query set has 30 images\n"
     ]
    }
   ],
   "source": [
    "# Read the query image\n",
    "query_set = glob.glob('./qsd1_w1/*.jpg')\n",
    "queries = []\n",
    "\n",
    "for f in query_set:\n",
    "    img = cv.imread(f, cv.IMREAD_COLOR)\n",
    "    grayImg = cv.cvtColor(img, cv.COLOR_RGB2GRAY)\n",
    "    hist = cv.calcHist([grayImg],[0],None,[64],[0,256])\n",
    "    hist_norm = hist/(grayImg.shape[0]*grayImg.shape[1])\n",
    "    queries.append(hist_norm)\n",
    "    \n",
    "print('Query set has ' + str(len(queries)) + ' images')"
   ]
  },
  {
   "cell_type": "code",
   "execution_count": 4,
   "metadata": {
    "scrolled": true
   },
   "outputs": [],
   "source": [
    "# Find the mask for the background\n",
    "# TO DO"
   ]
  },
  {
   "cell_type": "code",
   "execution_count": null,
   "metadata": {},
   "outputs": [],
   "source": [
    "for q in queries\n",
    "    for h in database\n",
    "        # Compute the metric \n",
    "        "
   ]
  },
  {
   "cell_type": "code",
   "execution_count": 7,
   "metadata": {
    "scrolled": true
   },
   "outputs": [
    {
     "data": {
      "text/plain": [
       "array([[0.18348097],\n",
       "       [0.13044998],\n",
       "       [0.        ]])"
      ]
     },
     "execution_count": 7,
     "metadata": {},
     "output_type": "execute_result"
    }
   ],
   "source": [
    "# Search for the k=10 nearest histograms in the DB\n",
    "dists = []\n",
    "ranking = []\n",
    "k=10\n",
    "i=0\n",
    "for h in database:\n",
    "    dist = sum(pow(abs(h - query_hist_norm),2))\n",
    "    if(not ranking or len(ranking) < k or dist < max(ranking)): \n",
    "        ranking.append(dist)\n",
    "np.sort(np.asarray(ranking))"
   ]
  },
  {
   "cell_type": "code",
   "execution_count": null,
   "metadata": {},
   "outputs": [],
   "source": []
  }
 ],
 "metadata": {
  "kernelspec": {
   "display_name": "Python 3",
   "language": "python",
   "name": "python3"
  },
  "language_info": {
   "codemirror_mode": {
    "name": "ipython",
    "version": 3
   },
   "file_extension": ".py",
   "mimetype": "text/x-python",
   "name": "python",
   "nbconvert_exporter": "python",
   "pygments_lexer": "ipython3",
   "version": "3.5.2"
  }
 },
 "nbformat": 4,
 "nbformat_minor": 2
}
