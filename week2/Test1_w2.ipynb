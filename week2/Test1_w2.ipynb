{
 "cells": [
  {
   "cell_type": "code",
   "execution_count": 1,
   "metadata": {},
   "outputs": [],
   "source": [
    "# Imports\n",
    "import cv2 as cv\n",
    "import numpy as np\n",
    "import matplotlib\n",
    "from matplotlib import pyplot as plt\n",
    "import glob\n",
    "import pickle\n",
    "import ml_metrics"
   ]
  },
  {
   "cell_type": "code",
   "execution_count": 2,
   "metadata": {},
   "outputs": [
    {
     "name": "stdout",
     "output_type": "stream",
     "text": [
      "Database has a length of  279 images\n"
     ]
    }
   ],
   "source": [
    "# Parameters\n",
    "NBINS = 64\n",
    "COLORSPACE = cv.COLOR_BGR2Lab\n",
    "DIVISIONS = 8\n",
    "\n",
    "# Read the image database and store the features: MULTIRESOLUTION\n",
    "database = []\n",
    "for f in sorted(glob.glob('../database/*.jpg')):\n",
    "    img = cv.imread(f, cv.IMREAD_COLOR)\n",
    "    img = cv.cvtColor(img, COLORSPACE)\n",
    "    # Level 0 histograms:\n",
    "    hist_img = []\n",
    "    npx = img.shape[0]*img.shape[1]\n",
    "    hist_1 = cv.calcHist([img],[0],None,[NBINS],[0,256])/npx \n",
    "    hist_2 = cv.calcHist([img],[1],None,[NBINS],[0,256])/npx\n",
    "    hist_3 = cv.calcHist([img],[2],None,[NBINS],[0,256])/npx\n",
    "    hists = np.concatenate((hist_1,hist_2,hist_3))\n",
    "    hist_img.append(hists)\n",
    "    \n",
    "    # Level 1 histograms\n",
    "    for i in range(0,DIVISIONS):\n",
    "        for j in range(0,DIVISIONS):\n",
    "            # Compute the normalized histograms\n",
    "            subimg = img[i*round(img.shape[0]/DIVISIONS):(i+1)*round(img.shape[0]/DIVISIONS)-1, \n",
    "                         j*round(img.shape[1]/DIVISIONS):(j+1)*round(img.shape[1]/DIVISIONS)-1]\n",
    "            npx = subimg.shape[0]*subimg.shape[1]\n",
    "            hist_1 = cv.calcHist([subimg],[0],None,[NBINS/2],[0,256])/npx \n",
    "            hist_2 = cv.calcHist([subimg],[1],None,[NBINS/2],[0,256])/npx\n",
    "            hist_3 = cv.calcHist([subimg],[2],None,[NBINS/2],[0,256])/npx\n",
    "            hists = np.concatenate((hist_1,hist_2,hist_3))\n",
    "            hist_img.append(hists)\n",
    "    \n",
    "    flat_list = []\n",
    "    for sublist in hist_img:\n",
    "        for item in sublist:\n",
    "            flat_list.append(item)\n",
    "    database.append(flat_list)\n",
    "\n",
    "print('Database has a length of ', len(database), 'images')"
   ]
  },
  {
   "cell_type": "code",
   "execution_count": 3,
   "metadata": {},
   "outputs": [
    {
     "name": "stdout",
     "output_type": "stream",
     "text": [
      "Query set has 30 images\n"
     ]
    }
   ],
   "source": [
    "# Read the query images\n",
    "queries = []\n",
    "\n",
    "for f in sorted(glob.glob('../qs/qsd1_w1/*.jpg')):\n",
    "    img = cv.imread(f, cv.IMREAD_COLOR)\n",
    "    img = cv.cvtColor(img, COLORSPACE)\n",
    "    \n",
    "    # Level 0 histograms:\n",
    "    hist_img = []\n",
    "    npx = img.shape[0]*img.shape[1]\n",
    "    hist_1 = cv.calcHist([img],[0],None,[NBINS],[0,256])/npx \n",
    "    hist_2 = cv.calcHist([img],[1],None,[NBINS],[0,256])/npx\n",
    "    hist_3 = cv.calcHist([img],[2],None,[NBINS],[0,256])/npx\n",
    "    hists = np.concatenate((hist_1,hist_2,hist_3))\n",
    "    hist_img.append(hists)\n",
    "    \n",
    "    # Multilevel histograms\n",
    "    for i in range(0,DIVISIONS):\n",
    "        for j in range(0,DIVISIONS):\n",
    "            # Compute the normalized histograms\n",
    "            subimg = img[i*round(img.shape[0]/DIVISIONS):(i+1)*round(img.shape[0]/DIVISIONS)-1, \n",
    "                         j*round(img.shape[1]/DIVISIONS):(j+1)*round(img.shape[1]/DIVISIONS)-1]\n",
    "            npx = subimg.shape[0]*subimg.shape[1]\n",
    "            hist_1 = cv.calcHist([subimg],[0],None,[NBINS/2],[0,256])/npx \n",
    "            hist_2 = cv.calcHist([subimg],[1],None,[NBINS/2],[0,256])/npx\n",
    "            hist_3 = cv.calcHist([subimg],[2],None,[NBINS/2],[0,256])/npx\n",
    "            hists = np.concatenate((hist_1,hist_2,hist_3))\n",
    "            hist_img.append(hists)\n",
    "    flat_list = []\n",
    "    for sublist in hist_img:\n",
    "        for item in sublist:\n",
    "            flat_list.append(item)\n",
    "    queries.append(flat_list)\n",
    "\n",
    "print('Query set has ' + str(len(queries)) + ' images')\n",
    "\n",
    "\n",
    "# Load the ground truth for the query set\n",
    "gt = pickle.load(open('../qs/qsd1_w1/gt_corresps.pkl','rb'))"
   ]
  },
  {
   "cell_type": "code",
   "execution_count": 4,
   "metadata": {},
   "outputs": [],
   "source": [
    "final_ranking = np.zeros( (len(queries),10), dtype=float )\n",
    "for i in range(0, len(queries)):\n",
    "    ranking = np.zeros((10, 2), dtype=float)\n",
    "    for j in range(0, len(database)):\n",
    "        # Compute the distance metric\n",
    "        dist = np.sum(np.sqrt(np.multiply(np.array(database[j]),np.array(queries[i]))))\n",
    "        # Check the ranking and update it\n",
    "        if (dist > min(ranking[:, 1])):\n",
    "            # Add the distance and the id to the db\n",
    "            idx = np.argmin(ranking[:, 1])\n",
    "            ranking[idx, 0] = j\n",
    "            ranking[idx, 1] = dist\n",
    "    # Store the closest K images\n",
    "    for j in range(0, 10):\n",
    "        idx = np.argmax(ranking[:, 1])\n",
    "        final_ranking[i, j] = ranking[idx, 0]\n",
    "        ranking[idx, :] = [0, 0]\n"
   ]
  },
  {
   "cell_type": "code",
   "execution_count": 5,
   "metadata": {},
   "outputs": [
    {
     "data": {
      "text/plain": [
       "0.8114285714285714"
      ]
     },
     "execution_count": 5,
     "metadata": {},
     "output_type": "execute_result"
    }
   ],
   "source": [
    "# Apply the MAP@K metric\n",
    "ml_metrics.mapk(gt,final_ranking.tolist(),10)"
   ]
  },
  {
   "cell_type": "code",
   "execution_count": 6,
   "metadata": {},
   "outputs": [
    {
     "data": {
      "text/plain": [
       "6336"
      ]
     },
     "execution_count": 6,
     "metadata": {},
     "output_type": "execute_result"
    }
   ],
   "source": [
    "len(queries[0])"
   ]
  },
  {
   "cell_type": "code",
   "execution_count": null,
   "metadata": {},
   "outputs": [],
   "source": []
  },
  {
   "cell_type": "code",
   "execution_count": null,
   "metadata": {},
   "outputs": [],
   "source": []
  }
 ],
 "metadata": {
  "kernelspec": {
   "display_name": "Python 3",
   "language": "python",
   "name": "python3"
  },
  "language_info": {
   "codemirror_mode": {
    "name": "ipython",
    "version": 3
   },
   "file_extension": ".py",
   "mimetype": "text/x-python",
   "name": "python",
   "nbconvert_exporter": "python",
   "pygments_lexer": "ipython3",
   "version": "3.5.2"
  }
 },
 "nbformat": 4,
 "nbformat_minor": 2
}
