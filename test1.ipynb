{
 "cells": [
  {
   "cell_type": "code",
   "execution_count": 1,
   "metadata": {},
   "outputs": [],
   "source": [
    "import cv2 as cv\n",
    "import numpy as np\n",
    "from matplotlib import pyplot as plt\n",
    "import glob"
   ]
  },
  {
   "cell_type": "code",
   "execution_count": 90,
   "metadata": {},
   "outputs": [
    {
     "name": "stdout",
     "output_type": "stream",
     "text": [
      "Database has 279 images\n"
     ]
    }
   ],
   "source": [
    "# Read the image database and store the features\n",
    "database = []\n",
    "for f in sorted(glob.glob('./database/*.jpg')):\n",
    "    img = cv.imread(f, cv.IMREAD_COLOR)\n",
    "    grayImg = cv.cvtColor(img, cv.COLOR_RGB2GRAY)\n",
    "    hist = cv.calcHist([grayImg],[0],None,[64],[0,256])\n",
    "    hist_norm = hist/(grayImg.shape[0]*grayImg.shape[1])\n",
    "    database.append(hist_norm)\n",
    "    \n",
    "print('Database has ' + str(len(database)) + ' images')"
   ]
  },
  {
   "cell_type": "code",
   "execution_count": 93,
   "metadata": {},
   "outputs": [
    {
     "name": "stdout",
     "output_type": "stream",
     "text": [
      "Query set has 30 images\n"
     ]
    }
   ],
   "source": [
    "# Read the query image\n",
    "queries = []\n",
    "\n",
    "for f in sorted(glob.glob('./qsd1_w1/*.jpg')):\n",
    "    img = cv.imread(f, cv.IMREAD_COLOR)\n",
    "    grayImg = cv.cvtColor(img, cv.COLOR_RGB2GRAY)\n",
    "    hist = cv.calcHist([grayImg],[0],None,[64],[0,256])\n",
    "    hist_norm = hist/(grayImg.shape[0]*grayImg.shape[1])\n",
    "    queries.append(hist_norm)\n",
    "    \n",
    "print('Query set has ' + str(len(queries)) + ' images')"
   ]
  },
  {
   "cell_type": "code",
   "execution_count": 124,
   "metadata": {
    "scrolled": true
   },
   "outputs": [
    {
     "ename": "IndexError",
     "evalue": "index 277 is out of bounds for axis 0 with size 30",
     "output_type": "error",
     "traceback": [
      "\u001b[0;31m---------------------------------------------------------------------------\u001b[0m",
      "\u001b[0;31mIndexError\u001b[0m                                Traceback (most recent call last)",
      "\u001b[0;32m<ipython-input-124-fd956ef12b61>\u001b[0m in \u001b[0;36m<module>\u001b[0;34m\u001b[0m\n\u001b[1;32m      1\u001b[0m \u001b[0;31m# Find the mask for the background\u001b[0m\u001b[0;34m\u001b[0m\u001b[0;34m\u001b[0m\u001b[0m\n\u001b[1;32m      2\u001b[0m \u001b[0;31m# TO DO\u001b[0m\u001b[0;34m\u001b[0m\u001b[0;34m\u001b[0m\u001b[0m\n\u001b[0;32m----> 3\u001b[0;31m \u001b[0mfinal_ranking\u001b[0m\u001b[0;34m[\u001b[0m\u001b[0mj\u001b[0m\u001b[0;34m,\u001b[0m\u001b[0;34m:\u001b[0m\u001b[0;34m]\u001b[0m\u001b[0;34m\u001b[0m\u001b[0m\n\u001b[0m",
      "\u001b[0;31mIndexError\u001b[0m: index 277 is out of bounds for axis 0 with size 30"
     ]
    }
   ],
   "source": [
    "# Find the mask for the background\n",
    "# TO DO"
   ]
  },
  {
   "cell_type": "code",
   "execution_count": 129,
   "metadata": {},
   "outputs": [],
   "source": [
    "final_ranking = np.zeros( (len(queries),10), dtype=float )\n",
    "for i in range(0,len(queries)):\n",
    "    ranking = np.ones( (10,2), dtype=float )\n",
    "    for j in range(0,len(database)):\n",
    "        # Compute the distance metric\n",
    "        dist = sum(pow(abs(database[j] - queries[i]),2))\n",
    "        # Check the ranking and update it\n",
    "        if(dist < max(ranking[:,1])):\n",
    "            # Add the distance and the id to the db\n",
    "            idx = np.argmax(ranking[:,1])\n",
    "            ranking[idx,0] = j+1\n",
    "            ranking[idx,1] = dist\n",
    "    \n",
    "    # In ranking we have the k closest images for query q, let's store it \n",
    "    final_ranking[i,:] = ranking[:,0]\n",
    "                "
   ]
  },
  {
   "cell_type": "code",
   "execution_count": 7,
   "metadata": {
    "scrolled": true
   },
   "outputs": [
    {
     "data": {
      "text/plain": [
       "array([[0.18348097],\n",
       "       [0.13044998],\n",
       "       [0.        ]])"
      ]
     },
     "execution_count": 7,
     "metadata": {},
     "output_type": "execute_result"
    }
   ],
   "source": [
    "# Search for the k=10 nearest histograms in the DB\n",
    "dists = []\n",
    "ranking = []\n",
    "k=10\n",
    "i=0\n",
    "for h in database:\n",
    "    dist = sum(pow(abs(h - query_hist_norm),2))\n",
    "    if(not ranking or len(ranking) < k or dist < max(ranking)): \n",
    "        ranking.append(dist)\n",
    "np.sort(np.asarray(ranking))"
   ]
  },
  {
   "cell_type": "code",
   "execution_count": 130,
   "metadata": {},
   "outputs": [
    {
     "data": {
      "text/plain": [
       "array([[142., 178., 273., 155., 241.,  75., 270.,  28.,  74.,  56.],\n",
       "       [111., 193., 189., 212.,   5., 147., 271., 242., 126., 135.],\n",
       "       [ 97., 265.,  81., 123.,  11.,  12.,  71., 259., 101., 153.],\n",
       "       [226., 181.,  77.,  83.,  23.,  80.,  60.,  98., 132., 234.],\n",
       "       [204.,  86., 211., 239., 119., 223., 148., 149.,   9.,  19.],\n",
       "       [222., 245.,   3.,  42., 112.,  37., 104., 272., 100., 153.],\n",
       "       [ 93.,  98.,  23.,  34.,  60., 181., 226.,  80.,  59., 132.],\n",
       "       [239., 204., 273., 199.,  39., 156., 257., 127.,   9.,  30.],\n",
       "       [ 74., 204.,  64.,  93., 239.,  59.,  34., 270., 145., 273.],\n",
       "       [201., 212.,  35., 105., 226.,  23., 107., 183., 139.,  60.],\n",
       "       [112., 243.,   3., 186.,  37., 245., 102., 272.,  17.,  10.],\n",
       "       [ 53., 194., 103.,  24., 138., 253.,  55., 218., 175., 202.],\n",
       "       [ 43.,  71., 259., 249.,  97.,  81., 265.,  15.,  73.,  41.],\n",
       "       [234.,  77.,  80., 273.,  66.,  34.,  59., 132.,  93.,  74.],\n",
       "       [ 38., 128., 111., 233., 193.,  27., 137., 191.,  20., 192.],\n",
       "       [234., 162.,  77., 132., 181.,  32., 124.,  80.,  66., 190.],\n",
       "       [165., 218.,  24.,  52.,  19.,  97., 151., 260.,   9., 211.],\n",
       "       [113.,  39.,  41.,  43.,  35., 107.,  73.,  18., 226.,  71.],\n",
       "       [ 38.,   2.,  25., 191., 138., 111., 186., 146.,  20., 192.],\n",
       "       [ 99., 278., 216., 235., 209., 164.,  40., 220.,  82., 205.],\n",
       "       [ 43.,  71.,  35., 258., 264., 259., 107., 113.,  73.,  41.],\n",
       "       [222., 112.,   3.,  37., 272., 245., 100.,  42., 104., 153.],\n",
       "       [204.,  64., 239.,  39., 199.,  74., 127., 273.,   9.,  30.],\n",
       "       [ 76.,  93.,  34., 132.,  59., 162.,  77.,  74.,  80.,  66.],\n",
       "       [ 74., 204., 239., 270.,  59.,  64., 149., 127.,   9., 273.],\n",
       "       [ 78., 137., 230.,  69., 158.,  33., 231., 185.,  91., 224.],\n",
       "       [234.,  34., 226., 132., 181.,  80., 139.,  59.,  93.,  77.],\n",
       "       [  1.,  75.,  44., 204., 142.,  86., 260., 178., 270.,  95.],\n",
       "       [ 64., 116., 261.,  30.,  39., 204., 239., 199.,   9., 127.],\n",
       "       [ 71., 165.,  24.,  52.,  73.,  81.,  11., 218., 151., 259.]])"
      ]
     },
     "execution_count": 130,
     "metadata": {},
     "output_type": "execute_result"
    }
   ],
   "source": [
    "final_ranking"
   ]
  }
 ],
 "metadata": {
  "kernelspec": {
   "display_name": "Python 3",
   "language": "python",
   "name": "python3"
  },
  "language_info": {
   "codemirror_mode": {
    "name": "ipython",
    "version": 3
   },
   "file_extension": ".py",
   "mimetype": "text/x-python",
   "name": "python",
   "nbconvert_exporter": "python",
   "pygments_lexer": "ipython3",
   "version": "3.5.2"
  }
 },
 "nbformat": 4,
 "nbformat_minor": 2
}
