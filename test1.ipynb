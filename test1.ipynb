{
 "cells": [
  {
   "cell_type": "code",
   "execution_count": 57,
   "metadata": {},
   "outputs": [],
   "source": [
    "import cv2 as cv\n",
    "import numpy as np\n",
    "from matplotlib import pyplot as plt\n",
    "import glob"
   ]
  },
  {
   "cell_type": "code",
   "execution_count": 58,
   "metadata": {},
   "outputs": [
    {
     "name": "stdout",
     "output_type": "stream",
     "text": [
      "Database has 3 images\n"
     ]
    }
   ],
   "source": [
    "# Read the image database and store the features\n",
    "files = glob.glob('./database/*.jpg')\n",
    "database = []\n",
    "\n",
    "for f in files:\n",
    "    img = cv.imread(f, cv.IMREAD_COLOR)\n",
    "    grayImg = cv.cvtColor(img, cv.COLOR_RGB2GRAY)\n",
    "    database.append(cv.calcHist([grayImg],[0],None,[64],[0,255]))\n",
    "    \n",
    "print('Database has ' + str(len(database)) + ' images')"
   ]
  },
  {
   "cell_type": "code",
   "execution_count": 59,
   "metadata": {},
   "outputs": [],
   "source": [
    "# Read the query image\n",
    "query = cv.imread('kandinsky.jpg',cv.IMREAD_COLOR)\n",
    "cv.imshow('image',query)\n",
    "cv.waitKey(0)\n",
    "cv.destroyAllWindows()"
   ]
  },
  {
   "cell_type": "code",
   "execution_count": 25,
   "metadata": {
    "scrolled": true
   },
   "outputs": [],
   "source": [
    "# Find the mask for the background\n",
    "# TO DO"
   ]
  },
  {
   "cell_type": "code",
   "execution_count": 65,
   "metadata": {},
   "outputs": [
    {
     "data": {
      "image/png": "[encoded data removed]",
      "text/plain": [
       "<Figure size 432x288 with 1 Axes>"
      ]
     },
     "metadata": {
      "needs_background": "light"
     },
     "output_type": "display_data"
    }
   ],
   "source": [
    "# Compute the grayscale histogram\n",
    "grayImg = cv.cvtColor(query, cv.COLOR_RGB2GRAY)\n",
    "query_hist = cv.calcHist([grayImg],[0],None,[64],[0,255])\n",
    "plt.hist(grayImg.ravel(),64,[0,255]); plt.show()"
   ]
  },
  {
   "cell_type": "code",
   "execution_count": 68,
   "metadata": {},
   "outputs": [
    {
     "name": "stdout",
     "output_type": "stream",
     "text": [
      "[7513425.]\n",
      "[338789.]\n",
      "[0.]\n"
     ]
    }
   ],
   "source": [
    "# Search for the k=10 nearest histograms in the DB\n",
    "dists = []\n",
    "i=0\n",
    "for h in database:\n",
    "    dist = sum(abs(h - query_hist))\n",
    "    print(dist)\n",
    "    "
   ]
  }
 ],
 "metadata": {
  "kernelspec": {
   "display_name": "Python 3",
   "language": "python",
   "name": "python3"
  },
  "language_info": {
   "codemirror_mode": {
    "name": "ipython",
    "version": 3
   },
   "file_extension": ".py",
   "mimetype": "text/x-python",
   "name": "python",
   "nbconvert_exporter": "python",
   "pygments_lexer": "ipython3",
   "version": "3.5.2"
  }
 },
 "nbformat": 4,
 "nbformat_minor": 2
}
